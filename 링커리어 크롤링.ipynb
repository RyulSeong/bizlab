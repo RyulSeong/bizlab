{
 "cells": [
  {
   "cell_type": "code",
   "execution_count": null,
   "id": "052d3525",
   "metadata": {},
   "outputs": [],
   "source": [
    "from selenium import webdriver\n",
    "import time\n",
    "from bs4 import BeautifulSoup as bs\n",
    "import csv\n",
    "import requests\n",
    "import pandas as pd\n",
    "import re\n",
    "from selenium.webdriver.common.desired_capabilities import DesiredCapabilities\n",
    "import urllib.request\n",
    "import random\n",
    "import urllib.parse\n",
    "import time\n",
    "from tqdm import tqdm"
   ]
  },
  {
   "cell_type": "code",
   "execution_count": null,
   "id": "afbd244e",
   "metadata": {},
   "outputs": [],
   "source": [
    "from selenium import webdriver\n",
    "driver = webdriver.Chrome('./chromedriver.exe')\n",
    "driver.implicitly_wait(3)"
   ]
  },
  {
   "cell_type": "code",
   "execution_count": null,
   "id": "e3566ce0",
   "metadata": {},
   "outputs": [],
   "source": [
    "keyword = input()\n",
    "keyword = keyword.split(' ')\n",
    "keyword\n",
    "\n",
    "#새내기 신입생 미리배움터 미터 새터 신환회 입학금 18학번 19학번 20학번 21학번 22학번 1학년 일학년 재수 반수 수능 다시배움터 샌애기 20살 스무살"
   ]
  },
  {
   "cell_type": "code",
   "execution_count": null,
   "id": "3534a390",
   "metadata": {},
   "outputs": [],
   "source": [
    "keyword"
   ]
  },
  {
   "cell_type": "code",
   "execution_count": null,
   "id": "acae1058",
   "metadata": {},
   "outputs": [],
   "source": [
    "page_list = []\n",
    "page_list_real = []\n",
    "\n",
    "import re\n",
    "e = re.compile('[0-9]{0,4}추천 [0-9]\\n')\n",
    "\n",
    "for key in tqdm(keyword):\n",
    "    for i in range(1,1000):\n",
    "        page = 'https://linkareer.com/search?direction=DESC&p='+str(i)+'&q='+ key +'&sort=RELEVANCE&tab=community'\n",
    "        driver.get(page)\n",
    "        soup = bs(driver.page_source, 'lxml')\n",
    "        \n",
    "        paper_url = driver.find_element(\"xpath\", '//*[@id=\"__next\"]/div[1]/div[3]/div/div[1]/div[3]')\n",
    "        paper_list_cnt = e.findall(paper_url.text)\n",
    "        \n",
    "        if len(paper_list_cnt) == 0:\n",
    "            break\n",
    "        page_list_real.append(page)\n",
    "        \n",
    "page_list_real"
   ]
  },
  {
   "cell_type": "code",
   "execution_count": null,
   "id": "e8fa9045",
   "metadata": {},
   "outputs": [],
   "source": [
    "paper_list_url = []\n",
    "\n",
    "import re\n",
    "e = re.compile('[0-9]{0,4}추천 [0-9]\\n')\n",
    "\n",
    "for page in tqdm(page_list_real):\n",
    "    driver.get(page)\n",
    "    soup = bs(driver.page_source, 'lxml')\n",
    "    \n",
    "    paper_url = driver.find_element(\"xpath\", '//*[@id=\"__next\"]/div[1]/div[3]/div/div[1]/div[3]')\n",
    "    paper_list_cnt = e.findall(paper_url.text)\n",
    "    \n",
    "    for paper_url in range(3,len(paper_list_cnt)+3):\n",
    "        paper_url = driver.find_element('xpath','//*[@id=\"__next\"]/div[1]/div[3]/div/div[1]/div[3]/div[1]/div['+str(paper_url)+']/a')\n",
    "        paper_url = paper_url.get_attribute('href')\n",
    "        paper_list_url.append(paper_url)\n",
    "\n",
    "paper_list_url"
   ]
  },
  {
   "cell_type": "code",
   "execution_count": null,
   "id": "ae83988c",
   "metadata": {},
   "outputs": [],
   "source": [
    "import re\n",
    "c = re.compile('익명|최신순|댓글|등록순|추천|비추천|\\'\\'|등록|답글 쓰기|로그인 후 댓글을 작성|[0-9]{4}\\.[0-9]{2}|사진|\\[작성자\\]|답글')\n",
    "\n",
    "title_results = []\n",
    "content_results = []\n",
    "date_results = []\n",
    "hit_results = []\n",
    "like_results = []\n",
    "comment_real3 = []\n",
    "\n",
    "for url in tqdm(data[477:]): #1940\n",
    "    if url == 'https://community.linkareer.com/jayuu/20756':\n",
    "        continue\n",
    "    if url == 'https://community.linkareer.com/jayuu/1233214':\n",
    "        continue\n",
    "    driver.get(url)\n",
    "    time.sleep(0.7)\n",
    "    soup = bs(driver.page_source, 'lxml')\n",
    "\n",
    "    a = 1\n",
    "    hits = soup.find_all('p', class_ = 'MuiTypography-root MuiTypography-body1 MuiTypography-colorTextSecondary')\n",
    "    for hit in hits:\n",
    "        # 날짜 추출\n",
    "        if a == 1:\n",
    "            date_results.append(hit.text)\n",
    "        # 조회수 추출\n",
    "        if a == 2:\n",
    "            hit_text = hit.text[3:]\n",
    "            hit_results.append(hit_text)\n",
    "        # 좋아요 추출\n",
    "        if a == 3:\n",
    "            like_text = hit.text[3:]\n",
    "            like_results.append(like_text)\n",
    "        a+=1\n",
    "\n",
    "    # 제목 추출 \n",
    "    titles = soup.find_all('h1', class_ = 'MuiTypography-root jss256 MuiTypography-h1')\n",
    "    for title in titles:\n",
    "        title_results.append(title.text)\n",
    "\n",
    "    # 본문 추출\n",
    "    contents = driver.find_element(\"xpath\", '//*[@id=\"simple-tabpanel-0\"]/div[1]/div[5]')\n",
    "    content_results.append(contents.text)\n",
    "\n",
    "    #댓글 추출\n",
    "    comment_results = []\n",
    "    comment_real = []\n",
    "    comment_real2 = []\n",
    "\n",
    "    comments = driver.find_element('xpath', '//*[@id=\"simple-tabpanel-0\"]/div[5]')\n",
    "    comment_results.append(comments.text)\n",
    "    comment_results = comment_results[0].split('비추천')\n",
    "\n",
    "    e = 0\n",
    "    for i in comment_results:\n",
    "        e+=1\n",
    "        if e == 1:\n",
    "            continue\n",
    "        i = i.split('\\n답글 쓰기')\n",
    "        i = i[0]\n",
    "        i = i.split('\\n')\n",
    "        i = i[1]\n",
    "        comment_real2.append(i)\n",
    "    comment_real3.append(comment_real2)"
   ]
  },
  {
   "cell_type": "code",
   "execution_count": null,
   "id": "30d93634",
   "metadata": {},
   "outputs": [],
   "source": [
    "aw = {\"title\" : title_results, \"content\" : content_results, \"comment\" : comment_real3, \"date\" : date_results, 'hit' : hit_results,  'like' : like_results}\n",
    "aw = pd.DataFrame(aw)\n",
    "aw.tail(30)"
   ]
  },
  {
   "cell_type": "code",
   "execution_count": null,
   "id": "15fe4cba",
   "metadata": {},
   "outputs": [],
   "source": [
    "aw.to_csv('신환회+18학번+19학번+20학번+21학번+22학번2_1.csv', encoding = \"utf-8-sig\")"
   ]
  }
 ],
 "metadata": {
  "kernelspec": {
   "display_name": "Python 3 (ipykernel)",
   "language": "python",
   "name": "python3"
  },
  "language_info": {
   "codemirror_mode": {
    "name": "ipython",
    "version": 3
   },
   "file_extension": ".py",
   "mimetype": "text/x-python",
   "name": "python",
   "nbconvert_exporter": "python",
   "pygments_lexer": "ipython3",
   "version": "3.9.12"
  }
 },
 "nbformat": 4,
 "nbformat_minor": 5
}
